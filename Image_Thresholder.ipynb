{
 "cells": [
  {
   "cell_type": "markdown",
   "metadata": {},
   "source": [
    "# Image Thresholding Tool (Used Before the Other Tool)\n",
    "\n",
    "\n",
    "## Tool Description \n",
    "This tool takes a color image as input and produces an inverse binary mask of cell colonies in it.<br>\n",
    "\n",
    "There are two inputs:\n",
    "- The path of a color image.\n",
    "- The circle annotation: it is in the form of a dictionary (loaded from an annotation file from VIA).\n",
    "\n",
    "There is one output:\n",
    "- A thresholded, inverse binary mask of cell colonies in the input color image.\n",
    "\n",
    "## Tool Features\n",
    "The tool provides an interactive slider (see Cell #4 below), where you can manually adjust the threshold value. All pixels with intensity values less than the threshold are set to be white (as it is an inverse mask); otherwise, set to black. <br>\n",
    "\n",
    "## Tool Usage\n",
    "To use this tool, please follow the steps outlined below in this notebook file. We recommend to run all the steps in order to avoid issues. Once the inputs to the tool are loaded (c.f., Cell #4 below), you may:\n",
    "- Use the interactive slider to adjust the threshold value.\n",
    "- Use the [Save Image] button to save the desired binary mask."
   ]
  },
  {
   "cell_type": "markdown",
   "metadata": {},
   "source": [
    "### Import Dependent Library\n",
    "\n",
    "First import the utils module, this will load all the functions and the class needed to run the tool.  "
   ]
  },
  {
   "cell_type": "code",
   "execution_count": 1,
   "metadata": {},
   "outputs": [],
   "source": [
    "from utils import *"
   ]
  },
  {
   "cell_type": "markdown",
   "metadata": {},
   "source": [
    "### Step 1: Load Image Annotations (Plate/Dish) to Dictionary\n",
    "\n",
    "This step loads the (JSON) annotation file. This file contains the circle annotation of all images. Recall that circle annotation is used to demarcate the Petri dish internal from the background.\n",
    "\n",
    "The `load_image_info()` function takes as input:\n",
    "- The path to the annotation file. <br>\n",
    "\n",
    "The `load_image_info()` function returns as output:\n",
    "- A dictionary where key is an image name and value is a tuple (cx, cy, r), where cx, cy are the center coordinates of the circle and r is the radius of the circle annotation."
   ]
  },
  {
   "cell_type": "code",
   "execution_count": 2,
   "metadata": {},
   "outputs": [],
   "source": [
    "# Define Annotation Path\n",
    "ann_path = \"./ann.json\" # [NOTE: replace with the annotation file that you saved]\n",
    "\n",
    "# Load dicitonary that maps image name to image annotaion metas\n",
    "img_name_2_meta = load_image_info(ann_path)"
   ]
  },
  {
   "cell_type": "markdown",
   "metadata": {},
   "source": [
    "### Step 2: Set Image Path\n",
    "\n",
    "Set the path of the image that you would like to work on."
   ]
  },
  {
   "cell_type": "code",
   "execution_count": 3,
   "metadata": {},
   "outputs": [],
   "source": [
    "# Define Image Path\n",
    "img_path = './sample.png' # [NOTE: change path as needed]"
   ]
  },
  {
   "cell_type": "markdown",
   "metadata": {},
   "source": [
    "# Run Manual Thresholding Tool\n",
    "\n",
    "- The input color image will be displayed on the left-hand side.\n",
    "- The output binary mask will be displayed on the right-hand side.\n",
    "- Use the interactive slider to adjust the threshold value.\n",
    "- Use the [Save Image] button to save the desired binary mask."
   ]
  },
  {
   "cell_type": "code",
   "execution_count": 4,
   "metadata": {},
   "outputs": [
    {
     "data": {
      "application/vnd.jupyter.widget-view+json": {
       "model_id": "d5467201bd8c4e38a5f054d63f3ac546",
       "version_major": 2,
       "version_minor": 0
      },
      "text/plain": [
       "Button(button_style='success', description='Save Image', icon='floppy-o', style=ButtonStyle(), tooltip='Descri…"
      ]
     },
     "metadata": {},
     "output_type": "display_data"
    },
    {
     "data": {
      "application/vnd.jupyter.widget-view+json": {
       "model_id": "6bd4fe88572a4dabbc882f5099a492bf",
       "version_major": 2,
       "version_minor": 0
      },
      "text/plain": [
       "interactive(children=(FloatSlider(value=120.0, continuous_update=False, description='THRESH:', max=255.0, read…"
      ]
     },
     "metadata": {},
     "output_type": "display_data"
    }
   ],
   "source": [
    "# Pass on the Image Path and the Image Meta Dictionary, inputs to the tool\n",
    "mt = Manual_Thresholder(img_path, img_name_2_meta)"
   ]
  },
  {
   "cell_type": "code",
   "execution_count": null,
   "metadata": {},
   "outputs": [],
   "source": []
  }
 ],
 "metadata": {
  "kernelspec": {
   "display_name": "Python 3",
   "language": "python",
   "name": "python3"
  },
  "language_info": {
   "codemirror_mode": {
    "name": "ipython",
    "version": 3
   },
   "file_extension": ".py",
   "mimetype": "text/x-python",
   "name": "python",
   "nbconvert_exporter": "python",
   "pygments_lexer": "ipython3",
   "version": "3.7.6"
  }
 },
 "nbformat": 4,
 "nbformat_minor": 5
}
